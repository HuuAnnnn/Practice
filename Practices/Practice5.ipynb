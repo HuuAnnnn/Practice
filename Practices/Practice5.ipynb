{
 "cells": [
  {
   "cell_type": "code",
   "execution_count": 294,
   "metadata": {},
   "outputs": [],
   "source": [
    "import torch\n",
    "from torch_geometric import nn, datasets\n",
    "import pytorch_lightning as L\n",
    "import torch.nn.functional as F\n",
    "from torcheval import metrics\n",
    "import matplotlib.pyplot as plt\n",
    "import scienceplots\n",
    "import numpy as np\n",
    "import os\n",
    "from pathlib import Path"
   ]
  },
  {
   "cell_type": "code",
   "execution_count": 295,
   "metadata": {},
   "outputs": [],
   "source": [
    "dataset = datasets.Planetoid(\"./datasets\", \"Cora\")"
   ]
  },
  {
   "cell_type": "code",
   "execution_count": 296,
   "metadata": {},
   "outputs": [
    {
     "name": "stdout",
     "output_type": "stream",
     "text": [
      "Name: Cora\n",
      "Number of classes: 7\n",
      "Number of edge features: 0\n",
      "Number of node features: 1,433\n"
     ]
    }
   ],
   "source": [
    "print(f\"Name: {dataset.name}\")\n",
    "print(f\"Number of classes: {dataset.num_classes}\")\n",
    "print(f\"Number of edge features: {dataset.num_edge_features}\")\n",
    "print(f\"Number of node features: {dataset.num_node_features:,}\")"
   ]
  },
  {
   "cell_type": "code",
   "execution_count": 297,
   "metadata": {},
   "outputs": [],
   "source": [
    "num_nodes = dataset.x.shape[0]"
   ]
  },
  {
   "cell_type": "code",
   "execution_count": 298,
   "metadata": {},
   "outputs": [],
   "source": [
    "hyper_edges = []\n",
    "\n",
    "for node in range(num_nodes):\n",
    "    adjacencies = dataset.x[node]\n",
    "    hyper_edge = [node]\n",
    "    edge_list = dataset.edge_index[:, dataset.edge_index[0] == node]\n",
    "    for u, v in zip(edge_list[0], edge_list[1]):\n",
    "        hyper_edge.append(v)\n",
    "    hyper_edges.append(hyper_edge)"
   ]
  },
  {
   "cell_type": "code",
   "execution_count": 299,
   "metadata": {},
   "outputs": [],
   "source": [
    "H = np.zeros((num_nodes, len(hyper_edges)))"
   ]
  },
  {
   "cell_type": "code",
   "execution_count": 300,
   "metadata": {},
   "outputs": [],
   "source": [
    "for i, hyper_edge in enumerate(hyper_edges):\n",
    "  for node in hyper_edge:\n",
    "    H[node][i] = 1"
   ]
  },
  {
   "cell_type": "code",
   "execution_count": 301,
   "metadata": {},
   "outputs": [],
   "source": [
    "nodes = []\n",
    "edge_index = []\n",
    "\n",
    "for edge in range(H.shape[1]):\n",
    "  for vertex, conn in enumerate(H[:, edge]):\n",
    "    if conn != 0:\n",
    "      nodes.append(vertex)\n",
    "      edge_index.append(edge)"
   ]
  },
  {
   "cell_type": "code",
   "execution_count": 302,
   "metadata": {},
   "outputs": [],
   "source": [
    "hyper_index = torch.tensor([nodes, edge_index])"
   ]
  },
  {
   "cell_type": "code",
   "execution_count": 303,
   "metadata": {},
   "outputs": [],
   "source": [
    "class GCNModel(torch.nn.Module):\n",
    "    def __init__(\n",
    "        self,\n",
    "        in_channels: int,\n",
    "        hidden_channels: int,\n",
    "        out_channels: int,\n",
    "    ):\n",
    "        super(GCNModel, self).__init__()\n",
    "        self.input = nn.conv.HypergraphConv(in_channels, hidden_channels)\n",
    "        self.output = nn.conv.HypergraphConv(hidden_channels, out_channels)\n",
    "        self.act = torch.nn.ELU()\n",
    "        self.softmax = torch.nn.Softmax(-1)\n",
    "\n",
    "    def forward(self, x: torch.Tensor, edge_index: torch.Tensor) -> torch.Tensor:\n",
    "        h = self.input(x, edge_index)\n",
    "        h = self.act(h)\n",
    "        h = self.output(h, edge_index)\n",
    "        h = self.softmax(h)\n",
    "\n",
    "        return h"
   ]
  },
  {
   "cell_type": "code",
   "execution_count": 304,
   "metadata": {},
   "outputs": [],
   "source": [
    "class GCNTrainer(L.LightningModule):\n",
    "    def __init__(\n",
    "        self,\n",
    "        in_channels: int,\n",
    "        hidden_channels: int,\n",
    "        out_channels: int,\n",
    "        lr: float,\n",
    "        weight_decay: float,\n",
    "    ):\n",
    "        super().__init__()\n",
    "        self.model = GCNModel(\n",
    "            in_channels,\n",
    "            hidden_channels,\n",
    "            out_channels,\n",
    "        )\n",
    "        self.lr = lr\n",
    "        self.weight_decay = weight_decay\n",
    "        self.criterion = torch.nn.CrossEntropyLoss()\n",
    "        self.history = {\n",
    "            \"epochs\": [],\n",
    "            \"loss\" : [],\n",
    "            \"accuracy\" : [],\n",
    "            \"val_loss\" : [],\n",
    "            \"val_accuracy\" : []\n",
    "        }\n",
    "        self.save_hyperparameters()\n",
    "\n",
    "    def forward(self, x: torch.Tensor, hyper_index: torch.Tensor):\n",
    "        return self.model(x, hyper_index)\n",
    "    \n",
    "    def _shared_eval_step(self, sample: torch.Tensor, mask: torch.Tensor):\n",
    "        acc = metrics.MulticlassAccuracy()\n",
    "        x, y = sample.x, F.one_hot(sample.y)\n",
    "        pred = self.model(x, hyper_index.to(self.device))\n",
    "        loss = self.criterion(y[mask].float(), pred[mask])\n",
    "        acc.update(sample.y[mask].float(), torch.argmax(pred[mask], -1))\n",
    "        \n",
    "        return loss, acc.compute()\n",
    "\n",
    "    def training_step(self, sample: torch.Tensor):\n",
    "        loss, acc = self._shared_eval_step(sample, sample.train_mask)\n",
    "        self.log(\"train_loss\", loss, prog_bar=True, logger=True)\n",
    "        self.log(\"train_acc\", acc, prog_bar=True, logger=True)\n",
    "        self.history[\"loss\"].append(loss.item())\n",
    "        self.history[\"accuracy\"].append(acc.item())\n",
    "        return loss\n",
    "\n",
    "    def validation_step(self, sample: torch.Tensor):\n",
    "        loss, acc = self._shared_eval_step(sample, sample.val_mask)\n",
    "        self.log(\"val_loss\", loss, prog_bar=True, logger=True)\n",
    "        self.log(\"val_acc\", acc, prog_bar=True, logger=True)\n",
    "        self.history[\"val_loss\"].append(loss.item())\n",
    "        self.history[\"val_accuracy\"].append(acc.item())\n",
    "        return loss\n",
    "\n",
    "    def test_step(self, sample: torch.Tensor):\n",
    "        loss, acc = self._shared_eval_step(sample, sample.test_mask)\n",
    "        self.log(\"test_loss\", loss, prog_bar=True, logger=True)\n",
    "        self.log(\"test_acc\", acc, prog_bar=True, logger=True)\n",
    "        return loss\n",
    "\n",
    "    def configure_optimizers(self):\n",
    "        return torch.optim.Adam(self.model.parameters(), lr=self.lr, weight_decay=self.weight_decay)"
   ]
  },
  {
   "cell_type": "code",
   "execution_count": 305,
   "metadata": {},
   "outputs": [],
   "source": [
    "early_stop = L.callbacks.EarlyStopping(monitor=\"val_loss\", mode=\"min\", check_on_train_epoch_end=True, patience=100)\n",
    "timer = L.callbacks.Timer()\n",
    "model_checkpoint = L.callbacks.ModelCheckpoint(\"./logs\")\n",
    "callbacks = [early_stop, timer]"
   ]
  },
  {
   "cell_type": "code",
   "execution_count": 306,
   "metadata": {},
   "outputs": [],
   "source": [
    "from pytorch_lightning.loggers import CSVLogger\n",
    "logger = CSVLogger(\"logs\", name=\"hypergraph\")"
   ]
  },
  {
   "cell_type": "code",
   "execution_count": 307,
   "metadata": {},
   "outputs": [
    {
     "name": "stderr",
     "output_type": "stream",
     "text": [
      "Using 16bit Automatic Mixed Precision (AMP)\n",
      "GPU available: True (cuda), used: True\n",
      "TPU available: False, using: 0 TPU cores\n",
      "IPU available: False, using: 0 IPUs\n",
      "HPU available: False, using: 0 HPUs\n",
      "`Trainer(val_check_interval=1)` was configured so validation will run after every batch.\n"
     ]
    }
   ],
   "source": [
    "trainer_module = GCNTrainer(\n",
    "    in_channels=dataset.num_features,\n",
    "    hidden_channels=16,\n",
    "    out_channels=dataset.num_classes,\n",
    "    lr=0.005,\n",
    "    weight_decay=0.0003,\n",
    ")\n",
    "\n",
    "trainer = L.Trainer(\n",
    "    accelerator=\"gpu\",\n",
    "    precision=\"16-mixed\",\n",
    "    max_epochs=1000,\n",
    "    num_sanity_val_steps=0,\n",
    "    val_check_interval=1,\n",
    "    callbacks=callbacks,\n",
    "    logger=logger,\n",
    ")"
   ]
  },
  {
   "cell_type": "code",
   "execution_count": 308,
   "metadata": {},
   "outputs": [
    {
     "data": {
      "text/plain": [
       "GCNTrainer(\n",
       "  (model): GCNModel(\n",
       "    (input): HypergraphConv(1433, 16)\n",
       "    (output): HypergraphConv(16, 7)\n",
       "    (act): ELU(alpha=1.0)\n",
       "    (softmax): Softmax(dim=-1)\n",
       "  )\n",
       "  (criterion): CrossEntropyLoss()\n",
       ")"
      ]
     },
     "execution_count": 308,
     "metadata": {},
     "output_type": "execute_result"
    }
   ],
   "source": [
    "trainer_module"
   ]
  },
  {
   "cell_type": "code",
   "execution_count": 309,
   "metadata": {},
   "outputs": [
    {
     "name": "stderr",
     "output_type": "stream",
     "text": [
      "LOCAL_RANK: 0 - CUDA_VISIBLE_DEVICES: [0]\n",
      "\n",
      "  | Name      | Type             | Params\n",
      "-----------------------------------------------\n",
      "0 | model     | GCNModel         | 23.1 K\n",
      "1 | criterion | CrossEntropyLoss | 0     \n",
      "-----------------------------------------------\n",
      "23.1 K    Trainable params\n",
      "0         Non-trainable params\n",
      "23.1 K    Total params\n",
      "0.092     Total estimated model params size (MB)\n"
     ]
    },
    {
     "name": "stdout",
     "output_type": "stream",
     "text": [
      "Epoch 999: 100%|██████████| 1/1 [00:00<00:00, 12.69it/s, v_num=8, train_loss=1.170, train_acc=1.000, val_loss=1.420, val_acc=0.778]"
     ]
    },
    {
     "name": "stderr",
     "output_type": "stream",
     "text": [
      "`Trainer.fit` stopped: `max_epochs=1000` reached.\n"
     ]
    },
    {
     "name": "stdout",
     "output_type": "stream",
     "text": [
      "Epoch 999: 100%|██████████| 1/1 [00:00<00:00, 11.01it/s, v_num=8, train_loss=1.170, train_acc=1.000, val_loss=1.420, val_acc=0.778]\n"
     ]
    }
   ],
   "source": [
    "trainer.fit(trainer_module, dataset, dataset)"
   ]
  },
  {
   "cell_type": "code",
   "execution_count": 310,
   "metadata": {},
   "outputs": [
    {
     "name": "stdout",
     "output_type": "stream",
     "text": [
      "Train time: 103.625s\n",
      "Validate time: 0.047s\n",
      "Test time: 0.000s\n"
     ]
    }
   ],
   "source": [
    "print(f\"Train time: {timer.time_elapsed('train'):.3f}s\")\n",
    "print(f\"Validate time: {timer.time_elapsed('validate'):.3f}s\")\n",
    "print(f\"Test time: {timer.time_elapsed('test'):.3f}s\")"
   ]
  },
  {
   "cell_type": "code",
   "execution_count": 311,
   "metadata": {},
   "outputs": [
    {
     "data": {
      "text/plain": [
       "<matplotlib.legend.Legend at 0x20a95fb11b0>"
      ]
     },
     "execution_count": 311,
     "metadata": {},
     "output_type": "execute_result"
    },
    {
     "data": {
      "image/png": "[encoded data removed]",
      "text/plain": [
       "<Figure size 1000x1000 with 1 Axes>"
      ]
     },
     "metadata": {},
     "output_type": "display_data"
    }
   ],
   "source": [
    "plt.style.use([\"science\", \"no-latex\"])\n",
    "plt.figure(figsize=(10, 10))\n",
    "\n",
    "plt.plot(range(trainer_module.current_epoch), trainer_module.history[\"loss\"])\n",
    "plt.plot(range(trainer_module.current_epoch), trainer_module.history[\"val_loss\"])\n",
    "plt.legend([\"loss\", \"val_loss\"])"
   ]
  },
  {
   "cell_type": "code",
   "execution_count": 312,
   "metadata": {},
   "outputs": [
    {
     "data": {
      "text/plain": [
       "<matplotlib.legend.Legend at 0x20a96052170>"
      ]
     },
     "execution_count": 312,
     "metadata": {},
     "output_type": "execute_result"
    },
    {
     "data": {
      "image/png": "[encoded data removed]",
      "text/plain": [
       "<Figure size 1000x1000 with 1 Axes>"
      ]
     },
     "metadata": {},
     "output_type": "display_data"
    }
   ],
   "source": [
    "plt.style.use([\"science\", \"no-latex\"])\n",
    "plt.figure(figsize=(10, 10))\n",
    "\n",
    "plt.plot(range(trainer_module.current_epoch), trainer_module.history[\"accuracy\"])\n",
    "plt.plot(range(trainer_module.current_epoch), trainer_module.history[\"val_accuracy\"])\n",
    "plt.legend([\"accuracy\", \"val_accuracy\"])"
   ]
  },
  {
   "cell_type": "code",
   "execution_count": 313,
   "metadata": {},
   "outputs": [],
   "source": [
    "paths = sorted(Path(\"./logs/hypergraph\").iterdir(), key=os.path.getmtime, reverse=True)\n",
    "\n",
    "ckpt_path = os.path.join(paths[0], \"checkpoints\")\n",
    "ckpt_file = os.listdir(ckpt_path)[0]\n",
    "ckpt_full_path = os.path.join(ckpt_path, ckpt_file)"
   ]
  },
  {
   "cell_type": "code",
   "execution_count": 314,
   "metadata": {},
   "outputs": [
    {
     "data": {
      "text/plain": [
       "'logs\\\\hypergraph\\\\version_8\\\\checkpoints\\\\epoch=999-step=1000.ckpt'"
      ]
     },
     "execution_count": 314,
     "metadata": {},
     "output_type": "execute_result"
    }
   ],
   "source": [
    "ckpt_full_path"
   ]
  },
  {
   "cell_type": "code",
   "execution_count": 315,
   "metadata": {},
   "outputs": [],
   "source": [
    "model = GCNTrainer.load_from_checkpoint(ckpt_full_path)"
   ]
  },
  {
   "cell_type": "code",
   "execution_count": 317,
   "metadata": {},
   "outputs": [
    {
     "name": "stderr",
     "output_type": "stream",
     "text": [
      "LOCAL_RANK: 0 - CUDA_VISIBLE_DEVICES: [0]\n"
     ]
    },
    {
     "name": "stdout",
     "output_type": "stream",
     "text": [
      "Testing DataLoader 0: 100%|██████████| 1/1 [00:00<00:00, 24.38it/s]\n",
      "────────────────────────────────────────────────────────────────────────────────────────────────────────────────────────\n",
      "       Test metric             DataLoader 0\n",
      "────────────────────────────────────────────────────────────────────────────────────────────────────────────────────────\n",
      "        test_acc            0.7969999313354492\n",
      "        test_loss           1.3932846784591675\n",
      "────────────────────────────────────────────────────────────────────────────────────────────────────────────────────────\n"
     ]
    },
    {
     "data": {
      "text/plain": [
       "[{'test_loss': 1.3932846784591675, 'test_acc': 0.7969999313354492}]"
      ]
     },
     "execution_count": 317,
     "metadata": {},
     "output_type": "execute_result"
    }
   ],
   "source": [
    "trainer.test(model, dataset)"
   ]
  }
 ],
 "metadata": {
  "kernelspec": {
   "display_name": "Python 3",
   "language": "python",
   "name": "python3"
  },
  "language_info": {
   "codemirror_mode": {
    "name": "ipython",
    "version": 3
   },
   "file_extension": ".py",
   "mimetype": "text/x-python",
   "name": "python",
   "nbconvert_exporter": "python",
   "pygments_lexer": "ipython3",
   "version": "3.10.9"
  }
 },
 "nbformat": 4,
 "nbformat_minor": 2
}
