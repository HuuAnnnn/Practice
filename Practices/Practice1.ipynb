{
 "cells": [
  {
   "cell_type": "code",
   "execution_count": 1,
   "metadata": {},
   "outputs": [],
   "source": [
    "import torch\n",
    "from torch_geometric import nn, datasets\n",
    "import pytorch_lightning as L\n",
    "import torch.nn.functional as F\n",
    "from torcheval import metrics\n",
    "\n",
    "import os\n",
    "from pathlib import Path"
   ]
  },
  {
   "cell_type": "code",
   "execution_count": 2,
   "metadata": {},
   "outputs": [
    {
     "name": "stderr",
     "output_type": "stream",
     "text": [
      "Downloading https://github.com/kimiyoung/planetoid/raw/master/data/ind.cora.x\n",
      "Downloading https://github.com/kimiyoung/planetoid/raw/master/data/ind.cora.tx\n",
      "Downloading https://github.com/kimiyoung/planetoid/raw/master/data/ind.cora.allx\n",
      "Downloading https://github.com/kimiyoung/planetoid/raw/master/data/ind.cora.y\n",
      "Downloading https://github.com/kimiyoung/planetoid/raw/master/data/ind.cora.ty\n",
      "Downloading https://github.com/kimiyoung/planetoid/raw/master/data/ind.cora.ally\n",
      "Downloading https://github.com/kimiyoung/planetoid/raw/master/data/ind.cora.graph\n",
      "Downloading https://github.com/kimiyoung/planetoid/raw/master/data/ind.cora.test.index\n",
      "Processing...\n",
      "Done!\n"
     ]
    }
   ],
   "source": [
    "dataset = datasets.Planetoid(\"./datasets\", \"Cora\")"
   ]
  },
  {
   "cell_type": "code",
   "execution_count": 3,
   "metadata": {},
   "outputs": [
    {
     "name": "stdout",
     "output_type": "stream",
     "text": [
      "Name: Cora\n",
      "Number of classes: 7\n",
      "Number of edge features: 0\n",
      "Number of node features: 1,433\n"
     ]
    }
   ],
   "source": [
    "print(f\"Name: {dataset.name}\")\n",
    "print(f\"Number of classes: {dataset.num_classes}\")\n",
    "print(f\"Number of edge features: {dataset.num_edge_features}\")\n",
    "print(f\"Number of node features: {dataset.num_node_features:,}\")"
   ]
  },
  {
   "cell_type": "code",
   "execution_count": 4,
   "metadata": {},
   "outputs": [],
   "source": [
    "class GCNModel(torch.nn.Module):\n",
    "    def __init__(\n",
    "        self,\n",
    "        in_channels: int,\n",
    "        hidden_channels: int,\n",
    "        out_channels: int,\n",
    "        num_layers: int,\n",
    "        dropout: float,\n",
    "    ):\n",
    "        super(GCNModel, self).__init__()\n",
    "        self.gcn = torch.nn.ModuleList()\n",
    "        for i in range(num_layers):\n",
    "            self.gcn.append(\n",
    "                nn.GraphConv(\n",
    "                    in_channels if i == 0 else hidden_channels, hidden_channels\n",
    "                )\n",
    "        )\n",
    "        self.act = torch.nn.ReLU()\n",
    "\n",
    "        self.dropout = torch.nn.Dropout(dropout)\n",
    "        self.lin = torch.nn.Linear(hidden_channels, out_channels)\n",
    "        self.softmax = torch.nn.Softmax(-1)\n",
    "\n",
    "    def forward(self, x: torch.Tensor, edge_index: torch.Tensor) -> torch.Tensor:\n",
    "        h = x\n",
    "        for layer in self.gcn:\n",
    "            h = layer(h, edge_index)\n",
    "            h = self.act(h)\n",
    "\n",
    "        h = self.dropout(h)\n",
    "        h = self.lin(h)\n",
    "        h = self.softmax(h)\n",
    "\n",
    "        return h"
   ]
  },
  {
   "cell_type": "code",
   "execution_count": 5,
   "metadata": {},
   "outputs": [],
   "source": [
    "class GCNTrainer(L.LightningModule):\n",
    "    def __init__(\n",
    "        self,\n",
    "        in_channels: int,\n",
    "        hidden_channels: int,\n",
    "        out_channels: int,\n",
    "        num_layers: int,\n",
    "        lr: float,\n",
    "        dropout: float,\n",
    "    ):\n",
    "        super().__init__()\n",
    "        self.model = GCNModel(\n",
    "            in_channels,\n",
    "            hidden_channels,\n",
    "            out_channels,\n",
    "            num_layers,\n",
    "            dropout,\n",
    "        )\n",
    "        self.lr = lr\n",
    "        self.criterion = torch.nn.CrossEntropyLoss()\n",
    "        self.save_hyperparameters()\n",
    "\n",
    "    def forward(self, x: torch.Tensor, edge_index: torch.Tensor):\n",
    "        return self.model(x, edge_index)\n",
    "\n",
    "    def training_step(self, sample: torch.Tensor):\n",
    "        acc = metrics.MulticlassAccuracy()\n",
    "        x, y, edge_index = sample.x, F.one_hot(sample.y), sample.edge_index\n",
    "        pred = self.model(x, edge_index)\n",
    "        loss = self.criterion(y[sample.train_mask].float(), pred[sample.train_mask])\n",
    "        acc.update(sample.y[sample.train_mask].float(), torch.argmax(pred[sample.train_mask], -1))\n",
    "        self.log(\"train_loss\", loss, prog_bar=True, logger=True)\n",
    "        self.log(\"train_acc\", acc.compute(), prog_bar=True, logger=True)\n",
    "        return loss\n",
    "\n",
    "    def validation_step(self, sample: torch.Tensor):\n",
    "        acc = metrics.MulticlassAccuracy()\n",
    "        x, y, edge_index = sample.x, F.one_hot(sample.y), sample.edge_index\n",
    "        pred = self.model(x, edge_index)\n",
    "        loss = self.criterion(y[sample.val_mask].float(), pred[sample.val_mask])\n",
    "        acc.update(sample.y[sample.val_mask].float(), torch.argmax(pred[sample.val_mask], -1))\n",
    "        self.log(\"val_loss\", loss, prog_bar=True, logger=True)\n",
    "        self.log(\"val_acc\", acc.compute(), prog_bar=True, logger=True)\n",
    "        return loss\n",
    "\n",
    "    def test_step(self, sample: torch.Tensor):\n",
    "        acc = metrics.MulticlassAccuracy()\n",
    "        x, y, edge_index = sample.x, F.one_hot(sample.y), sample.edge_index\n",
    "        pred = self.model(x, edge_index)\n",
    "        loss = self.criterion(y[sample.test_mask].float(), pred[sample.test_mask])\n",
    "        acc.update(sample.y[sample.test_mask].float(), torch.argmax(pred[sample.test_mask], -1))\n",
    "        self.log(\"test_loss\",loss, prog_bar=True, logger=True)\n",
    "        self.log(\"test_acc\", acc.compute(), prog_bar=True, logger=True)\n",
    "        return loss\n",
    "\n",
    "    def configure_optimizers(self):\n",
    "        return torch.optim.Adam(self.model.parameters(), lr=self.lr)"
   ]
  },
  {
   "cell_type": "code",
   "execution_count": 6,
   "metadata": {},
   "outputs": [],
   "source": [
    "early_stop = L.callbacks.EarlyStopping(monitor=\"val_loss\", mode=\"min\")\n",
    "timer = L.callbacks.Timer(duration=\"00:12:00:00\")\n",
    "model_checkpoint = L.callbacks.ModelCheckpoint(\"./lightning_logs\")\n",
    "callbacks = [early_stop, timer]"
   ]
  },
  {
   "cell_type": "code",
   "execution_count": 7,
   "metadata": {},
   "outputs": [
    {
     "name": "stderr",
     "output_type": "stream",
     "text": [
      "c:\\Users\\Admin\\AppData\\Local\\Programs\\Python\\Python310\\lib\\site-packages\\lightning_fabric\\connector.py:563: `precision=16` is supported for historical reasons but its usage is discouraged. Please set your precision to 16-mixed instead!\n",
      "Using 16bit Automatic Mixed Precision (AMP)\n",
      "GPU available: True (cuda), used: True\n",
      "TPU available: False, using: 0 TPU cores\n",
      "IPU available: False, using: 0 IPUs\n",
      "HPU available: False, using: 0 HPUs\n",
      "c:\\Users\\Admin\\AppData\\Local\\Programs\\Python\\Python310\\lib\\site-packages\\pytorch_lightning\\trainer\\connectors\\logger_connector\\logger_connector.py:75: Starting from v1.9.0, `tensorboardX` has been removed as a dependency of the `pytorch_lightning` package, due to potential conflicts with other packages in the ML ecosystem. For this reason, `logger=True` will use `CSVLogger` as the default logger, unless the `tensorboard` or `tensorboardX` packages are found. Please `pip install lightning[extra]` or one of them to enable TensorBoard support by default\n"
     ]
    }
   ],
   "source": [
    "trainer_module = GCNTrainer(dataset.num_features, 32, dataset.num_classes, 2, 1e-3, 0.2)\n",
    "trainer = L.Trainer(callbacks=callbacks, accelerator=\"gpu\", precision=16)"
   ]
  },
  {
   "cell_type": "code",
   "execution_count": 8,
   "metadata": {},
   "outputs": [
    {
     "name": "stderr",
     "output_type": "stream",
     "text": [
      "Missing logger folder: d:\\Experiments\\Practice\\Practices\\lightning_logs\n",
      "LOCAL_RANK: 0 - CUDA_VISIBLE_DEVICES: [0]\n",
      "\n",
      "  | Name      | Type             | Params\n",
      "-----------------------------------------------\n",
      "0 | model     | GCNModel         | 94.1 K\n",
      "1 | criterion | CrossEntropyLoss | 0     \n",
      "-----------------------------------------------\n",
      "94.1 K    Trainable params\n",
      "0         Non-trainable params\n",
      "94.1 K    Total params\n",
      "0.376     Total estimated model params size (MB)\n"
     ]
    },
    {
     "name": "stdout",
     "output_type": "stream",
     "text": [
      "                                                                           "
     ]
    },
    {
     "name": "stderr",
     "output_type": "stream",
     "text": [
      "c:\\Users\\Admin\\AppData\\Local\\Programs\\Python\\Python310\\lib\\site-packages\\pytorch_lightning\\utilities\\data.py:77: Trying to infer the `batch_size` from an ambiguous collection. The batch size we found is 2708. To avoid any miscalculations, use `self.log(..., batch_size=batch_size)`.\n",
      "c:\\Users\\Admin\\AppData\\Local\\Programs\\Python\\Python310\\lib\\site-packages\\pytorch_lightning\\loops\\fit_loop.py:298: The number of training batches (1) is smaller than the logging interval Trainer(log_every_n_steps=50). Set a lower value for log_every_n_steps if you want to see logs for the training epoch.\n"
     ]
    },
    {
     "name": "stdout",
     "output_type": "stream",
     "text": [
      "Epoch 78: 100%|██████████| 1/1 [00:00<00:00, 12.60it/s, v_num=0, train_loss=1.190, train_acc=0.993, val_loss=1.480, val_acc=0.762]\n"
     ]
    }
   ],
   "source": [
    "trainer.fit(trainer_module, dataset, dataset)"
   ]
  },
  {
   "cell_type": "code",
   "execution_count": 9,
   "metadata": {},
   "outputs": [
    {
     "name": "stdout",
     "output_type": "stream",
     "text": [
      "6.531s\n",
      "0.032s\n",
      "0.000s\n"
     ]
    }
   ],
   "source": [
    "print(f\"{timer.time_elapsed('train'):.3f}s\")\n",
    "print(f\"{timer.time_elapsed('validate'):.3f}s\")\n",
    "print(f\"{timer.time_elapsed('test'):.3f}s\")"
   ]
  },
  {
   "cell_type": "code",
   "execution_count": 10,
   "metadata": {},
   "outputs": [],
   "source": [
    "paths = sorted(Path(\"./lightning_logs\").iterdir(), key=os.path.getmtime, reverse=True)\n",
    "\n",
    "ckpt_path = os.path.join(paths[0], \"checkpoints\")\n",
    "ckpt_file = os.listdir(ckpt_path)[0]\n",
    "ckpt_full_path = os.path.join(ckpt_path, ckpt_file)"
   ]
  },
  {
   "cell_type": "code",
   "execution_count": 11,
   "metadata": {},
   "outputs": [
    {
     "data": {
      "text/plain": [
       "'lightning_logs\\\\version_0\\\\checkpoints\\\\epoch=78-step=79.ckpt'"
      ]
     },
     "execution_count": 11,
     "metadata": {},
     "output_type": "execute_result"
    }
   ],
   "source": [
    "ckpt_full_path"
   ]
  },
  {
   "cell_type": "code",
   "execution_count": 12,
   "metadata": {},
   "outputs": [],
   "source": [
    "model = GCNTrainer.load_from_checkpoint(ckpt_full_path)"
   ]
  },
  {
   "cell_type": "code",
   "execution_count": 13,
   "metadata": {},
   "outputs": [
    {
     "name": "stderr",
     "output_type": "stream",
     "text": [
      "LOCAL_RANK: 0 - CUDA_VISIBLE_DEVICES: [0]\n"
     ]
    },
    {
     "name": "stdout",
     "output_type": "stream",
     "text": [
      "Testing DataLoader 0: 100%|██████████| 1/1 [00:00<00:00, 30.76it/s]\n",
      "────────────────────────────────────────────────────────────────────────────────────────────────────────────────────────\n",
      "       Test metric             DataLoader 0\n",
      "────────────────────────────────────────────────────────────────────────────────────────────────────────────────────────\n",
      "        test_acc            0.7519999742507935\n",
      "        test_loss           1.4835654497146606\n",
      "────────────────────────────────────────────────────────────────────────────────────────────────────────────────────────\n"
     ]
    },
    {
     "data": {
      "text/plain": [
       "[{'test_loss': 1.4835654497146606, 'test_acc': 0.7519999742507935}]"
      ]
     },
     "execution_count": 13,
     "metadata": {},
     "output_type": "execute_result"
    }
   ],
   "source": [
    "trainer.test(model, dataset)"
   ]
  }
 ],
 "metadata": {
  "kernelspec": {
   "display_name": "Python 3",
   "language": "python",
   "name": "python3"
  },
  "language_info": {
   "codemirror_mode": {
    "name": "ipython",
    "version": 3
   },
   "file_extension": ".py",
   "mimetype": "text/x-python",
   "name": "python",
   "nbconvert_exporter": "python",
   "pygments_lexer": "ipython3",
   "version": "3.10.9"
  }
 },
 "nbformat": 4,
 "nbformat_minor": 2
}
