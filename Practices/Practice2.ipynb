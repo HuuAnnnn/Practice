{
 "cells": [
  {
   "cell_type": "code",
   "execution_count": 46,
   "metadata": {},
   "outputs": [],
   "source": [
    "import torch\n",
    "import torch_geometric as tg\n",
    "from torch_geometric.loader import DataLoader\n",
    "from torch_geometric import datasets, nn\n",
    "import pytorch_lightning as L\n",
    "from torcheval import metrics\n",
    "import matplotlib.pyplot as plt\n",
    "import scienceplots\n",
    "import os\n",
    "from pathlib import Path"
   ]
  },
  {
   "cell_type": "code",
   "execution_count": 47,
   "metadata": {},
   "outputs": [],
   "source": [
    "train_data = datasets.UPFD(\"./datasets\", \"gossipcop\", feature=\"content\", split=\"test\")\n",
    "test_data = datasets.UPFD(\"./datasets\", \"gossipcop\", feature=\"content\", split=\"train\")\n",
    "val_data = datasets.UPFD(\"./datasets\", \"gossipcop\", feature=\"content\", split=\"val\")"
   ]
  },
  {
   "cell_type": "code",
   "execution_count": 48,
   "metadata": {},
   "outputs": [],
   "source": [
    "train_loader = DataLoader(\n",
    "    train_data,\n",
    "    batch_size=128,\n",
    "    shuffle=True,\n",
    "    drop_last=False,\n",
    "    num_workers=2,\n",
    "    persistent_workers=True\n",
    ")\n",
    "val_loader = DataLoader(\n",
    "    val_data,\n",
    "    batch_size=128,\n",
    "    shuffle=False,\n",
    "    drop_last=False,\n",
    "    num_workers=2,\n",
    "    persistent_workers=True\n",
    ")\n",
    "test_loader = DataLoader(\n",
    "    test_data,\n",
    "    batch_size=128,\n",
    "    shuffle=False,\n",
    "    drop_last=False,\n",
    "    num_workers=2,\n",
    "    persistent_workers=True\n",
    ")"
   ]
  },
  {
   "cell_type": "code",
   "execution_count": 49,
   "metadata": {},
   "outputs": [],
   "source": [
    "class FakeNewsGNN(torch.nn.Module):\n",
    "    def __init__(\n",
    "        self,\n",
    "        in_channels: int,\n",
    "        hidden_channels: int,\n",
    "        out_channels: int,\n",
    "        dropout: int,\n",
    "        num_layers: int,\n",
    "        num_heads: int,\n",
    "    ) -> None:\n",
    "        super(FakeNewsGNN, self).__init__()\n",
    "        self.gat = torch.nn.ModuleList()\n",
    "        for i in range(num_layers):\n",
    "            self.gat.append(\n",
    "                nn.GATConv(\n",
    "                    in_channels if i == 0 else hidden_channels,\n",
    "                    hidden_channels,\n",
    "                    heads=num_heads,\n",
    "                )\n",
    "            )\n",
    "\n",
    "        self.dropout = torch.nn.Dropout(dropout)\n",
    "        self.act = torch.nn.ReLU()\n",
    "        self.lin_news = torch.nn.Linear(in_channels, hidden_channels)\n",
    "        self.lin0 = torch.nn.Linear(hidden_channels, hidden_channels)\n",
    "        self.lin1 = torch.nn.Linear(2 * hidden_channels, out_channels)\n",
    "        self.sigmoid = torch.nn.Sigmoid()\n",
    "\n",
    "    def forward(self, data: tg.data.Batch):\n",
    "        h = data.x\n",
    "        for layer in self.gat:\n",
    "            h = layer(h, data.edge_index)\n",
    "            h = self.act(h)\n",
    "\n",
    "        # Pooling\n",
    "        h = nn.global_max_pool(h, data.batch)\n",
    "        # Readout\n",
    "        h = self.lin0(h)\n",
    "        h = self.act(h)\n",
    "\n",
    "        root = (data.batch[1:] - data.batch[:-1]).nonzero(as_tuple=False).view(-1)\n",
    "        root = torch.cat([root.new_zeros(1), root + 1], dim=0)\n",
    "        news = data.x[root]\n",
    "        news = self.act(self.lin_news(news))\n",
    "\n",
    "        out = torch.cat([h, news], dim=-1)\n",
    "        out = self.lin1(out)\n",
    "        return self.sigmoid(out)"
   ]
  },
  {
   "cell_type": "code",
   "execution_count": 50,
   "metadata": {},
   "outputs": [],
   "source": [
    "from typing import Any\n",
    "\n",
    "\n",
    "class FakeNewsTrainer(L.LightningModule):\n",
    "    def __init__(\n",
    "        self,\n",
    "        in_channels: int,\n",
    "        hidden_channels: int,\n",
    "        out_channels: int,\n",
    "        num_layers: int,\n",
    "        dropout: float,\n",
    "        num_heads: int,\n",
    "        lr: float,\n",
    "    ) -> None:\n",
    "        super().__init__()\n",
    "        self.model = FakeNewsGNN(\n",
    "            in_channels=in_channels,\n",
    "            hidden_channels=hidden_channels,\n",
    "            out_channels=out_channels,\n",
    "            num_layers=num_layers,\n",
    "            dropout=dropout,\n",
    "            num_heads=num_heads,\n",
    "        )\n",
    "\n",
    "        self.lr = lr\n",
    "        self.criterion = torch.nn.BCELoss()\n",
    "        self.history = {\n",
    "            \"epochs\": [],\n",
    "            \"loss\": [],\n",
    "            \"val_loss\": [],\n",
    "            \"acc\": [],\n",
    "            \"val_acc\": [],\n",
    "        }\n",
    "\n",
    "        self.training_step_outputs = {\n",
    "            \"loss\": [],\n",
    "            \"val_loss\": [],\n",
    "            \"acc\": [],\n",
    "            \"val_acc\": [],\n",
    "        }\n",
    "\n",
    "        self.save_hyperparameters()\n",
    "\n",
    "    def forward(self, data: tg.data.Batch):\n",
    "        return self.model(data)\n",
    "\n",
    "    def _shared_eval_step(self, data: tg.data.Batch):\n",
    "        acc = metrics.BinaryAccuracy()\n",
    "        pred = self.model(data)\n",
    "        loss = self.criterion(pred.view(-1,), data.y.float())\n",
    "        accuracy = acc.update(pred.view(-1,), data.y.float())\n",
    "        return loss, accuracy.compute()\n",
    "\n",
    "    def training_step(self, data: tg.data.Batch):\n",
    "        loss, accuracy = self._shared_eval_step(data)\n",
    "        self.log(\"train_loss\", loss.item(), prog_bar=True, batch_size=data.batch_size)\n",
    "        self.log(\"train_acc\", accuracy, prog_bar=True, batch_size=data.batch_size)\n",
    "        self.training_step_outputs[\"loss\"].append(loss.item())\n",
    "        self.training_step_outputs[\"acc\"].append(accuracy)\n",
    "        return loss * data.num_graphs\n",
    "\n",
    "    def validation_step(self, data: tg.data.Batch):\n",
    "        loss, accuracy = self._shared_eval_step(data)\n",
    "        self.log(\"val_loss\", loss.item(), prog_bar=True, batch_size=data.batch_size)\n",
    "        self.log(\"val_acc\", accuracy, prog_bar=True, batch_size=data.batch_size)\n",
    "        self.training_step_outputs[\"val_loss\"].append(loss.item())\n",
    "        self.training_step_outputs[\"val_acc\"].append(accuracy)\n",
    "        return loss * data.num_graphs\n",
    "\n",
    "    def test_step(self, data: tg.data.Batch):\n",
    "        loss, accuracy = self._shared_eval_step(data)\n",
    "        self.log(\"test_loss\", loss.item(), prog_bar=True, batch_size=data.batch_size)\n",
    "        self.log(\"test_acc\", accuracy, prog_bar=True, batch_size=data.batch_size)\n",
    "        return loss * data.num_graphs\n",
    "\n",
    "    def on_train_epoch_end(self) -> None:\n",
    "        self.history[\"epochs\"].append(self.current_epoch)\n",
    "        for key, item in self.training_step_outputs.items():\n",
    "            self.history[key].append(sum(item) / len(item))\n",
    "\n",
    "        self.training_step_outputs = {\n",
    "            \"loss\": [],\n",
    "            \"val_loss\": [],\n",
    "            \"acc\": [],\n",
    "            \"val_acc\": [],\n",
    "        }\n",
    "\n",
    "    def configure_optimizers(self):\n",
    "        return torch.optim.Adam(self.model.parameters(), lr=self.lr)"
   ]
  },
  {
   "cell_type": "code",
   "execution_count": 51,
   "metadata": {},
   "outputs": [],
   "source": [
    "fake_news_model = FakeNewsTrainer(\n",
    "    in_channels=train_data.num_features,\n",
    "    hidden_channels=128,\n",
    "    out_channels=1,\n",
    "    num_layers=3,\n",
    "    dropout=0.2,\n",
    "    num_heads=1,\n",
    "    lr=1e-3,\n",
    ")"
   ]
  },
  {
   "cell_type": "code",
   "execution_count": 52,
   "metadata": {},
   "outputs": [
    {
     "data": {
      "text/plain": [
       "FakeNewsTrainer(\n",
       "  (model): FakeNewsGNN(\n",
       "    (gat): ModuleList(\n",
       "      (0): GATConv(310, 128, heads=1)\n",
       "      (1-2): 2 x GATConv(128, 128, heads=1)\n",
       "    )\n",
       "    (dropout): Dropout(p=0.2, inplace=False)\n",
       "    (act): ReLU()\n",
       "    (lin_news): Linear(in_features=310, out_features=128, bias=True)\n",
       "    (lin0): Linear(in_features=128, out_features=128, bias=True)\n",
       "    (lin1): Linear(in_features=256, out_features=1, bias=True)\n",
       "    (sigmoid): Sigmoid()\n",
       "  )\n",
       "  (criterion): BCELoss()\n",
       ")"
      ]
     },
     "execution_count": 52,
     "metadata": {},
     "output_type": "execute_result"
    }
   ],
   "source": [
    "fake_news_model"
   ]
  },
  {
   "cell_type": "code",
   "execution_count": 53,
   "metadata": {},
   "outputs": [],
   "source": [
    "timer = L.callbacks.Timer()\n",
    "early_stopping = L.callbacks.EarlyStopping(patience=10, monitor=\"val_loss\", mode=\"min\")\n",
    "checkpoint = L.callbacks.ModelCheckpoint(dirpath=\"./lightning_logs/FakeNews/\")\n",
    "callbacks = [timer, early_stopping]"
   ]
  },
  {
   "cell_type": "code",
   "execution_count": 54,
   "metadata": {},
   "outputs": [
    {
     "name": "stderr",
     "output_type": "stream",
     "text": [
      "GPU available: True (cuda), used: True\n",
      "TPU available: False, using: 0 TPU cores\n",
      "IPU available: False, using: 0 IPUs\n",
      "HPU available: False, using: 0 HPUs\n",
      "`Trainer(val_check_interval=1)` was configured so validation will run after every batch.\n"
     ]
    }
   ],
   "source": [
    "trainer = L.Trainer(\n",
    "    accelerator=\"gpu\",\n",
    "    num_sanity_val_steps=0,\n",
    "    val_check_interval=1,\n",
    "    callbacks=callbacks,\n",
    "    max_epochs=300,\n",
    "    default_root_dir=\"./lightning_logs/FakeNews\"\n",
    ")"
   ]
  },
  {
   "cell_type": "code",
   "execution_count": 55,
   "metadata": {},
   "outputs": [
    {
     "name": "stderr",
     "output_type": "stream",
     "text": [
      "LOCAL_RANK: 0 - CUDA_VISIBLE_DEVICES: [0]\n",
      "\n",
      "  | Name      | Type        | Params\n",
      "------------------------------------------\n",
      "0 | model     | FakeNewsGNN | 130 K \n",
      "1 | criterion | BCELoss     | 0     \n",
      "------------------------------------------\n",
      "130 K     Trainable params\n",
      "0         Non-trainable params\n",
      "130 K     Total params\n",
      "0.521     Total estimated model params size (MB)\n",
      "c:\\Users\\Admin\\AppData\\Local\\Programs\\Python\\Python310\\lib\\site-packages\\pytorch_lightning\\loops\\fit_loop.py:298: The number of training batches (30) is smaller than the logging interval Trainer(log_every_n_steps=50). Set a lower value for log_every_n_steps if you want to see logs for the training epoch.\n"
     ]
    },
    {
     "name": "stdout",
     "output_type": "stream",
     "text": [
      "Epoch 0:   3%|▎         | 1/30 [00:07<03:47,  0.13it/s, v_num=10, train_loss=0.691, train_acc=0.531]"
     ]
    },
    {
     "name": "stderr",
     "output_type": "stream",
     "text": [
      "c:\\Users\\Admin\\AppData\\Local\\Programs\\Python\\Python310\\lib\\site-packages\\torch_geometric\\warnings.py:11: UserWarning: The usage of `scatter(reduce='max')` can be accelerated via the 'torch-scatter' package, but it was not found\n",
      "  warnings.warn(message)\n"
     ]
    },
    {
     "name": "stdout",
     "output_type": "stream",
     "text": [
      "Epoch 41: 100%|██████████| 30/30 [00:11<00:00,  2.72it/s, v_num=10, train_loss=0.0764, train_acc=0.982, val_loss=0.109, val_acc=0.969] \n"
     ]
    }
   ],
   "source": [
    "trainer.fit(fake_news_model, train_loader, val_loader)"
   ]
  },
  {
   "cell_type": "code",
   "execution_count": 64,
   "metadata": {},
   "outputs": [
    {
     "data": {
      "text/plain": [
       "<matplotlib.legend.Legend at 0x1bd6d5dada0>"
      ]
     },
     "execution_count": 64,
     "metadata": {},
     "output_type": "execute_result"
    },
    {
     "data": {
      "image/png": "[encoded data removed]",
      "text/plain": [
       "<Figure size 1000x500 with 1 Axes>"
      ]
     },
     "metadata": {},
     "output_type": "display_data"
    }
   ],
   "source": [
    "plt.style.use([\"science\", \"no-latex\"])\n",
    "plt.figure(figsize=(10, 5))\n",
    "\n",
    "plt.plot(range(fake_news_model.current_epoch), fake_news_model.history[\"loss\"])\n",
    "plt.plot(range(fake_news_model.current_epoch), fake_news_model.history[\"val_loss\"])\n",
    "plt.legend([\"loss\", \"val_loss\"])"
   ]
  },
  {
   "cell_type": "code",
   "execution_count": 63,
   "metadata": {},
   "outputs": [
    {
     "data": {
      "text/plain": [
       "<matplotlib.legend.Legend at 0x1bd6e44f9a0>"
      ]
     },
     "execution_count": 63,
     "metadata": {},
     "output_type": "execute_result"
    },
    {
     "data": {
      "image/png": "[encoded data removed]",
      "text/plain": [
       "<Figure size 1000x500 with 1 Axes>"
      ]
     },
     "metadata": {},
     "output_type": "display_data"
    }
   ],
   "source": [
    "plt.style.use([\"science\", \"no-latex\"])\n",
    "plt.figure(figsize=(10, 5))\n",
    "\n",
    "plt.plot(range(fake_news_model.current_epoch), fake_news_model.history[\"acc\"])\n",
    "plt.plot(range(fake_news_model.current_epoch), fake_news_model.history[\"val_acc\"])\n",
    "plt.legend([\"accuracy\", \"val_accuracy\"])"
   ]
  },
  {
   "cell_type": "code",
   "execution_count": 59,
   "metadata": {},
   "outputs": [],
   "source": [
    "paths = sorted(Path(\"./lightning_logs/FakeNews/lightning_logs\").iterdir(), key=os.path.getmtime, reverse=True)\n",
    "\n",
    "ckpt_path = os.path.join(paths[0], \"checkpoints\")\n",
    "ckpt_file = os.listdir(ckpt_path)[0]\n",
    "ckpt_full_path = os.path.join(ckpt_path, ckpt_file)"
   ]
  },
  {
   "cell_type": "code",
   "execution_count": 60,
   "metadata": {},
   "outputs": [],
   "source": [
    "model = FakeNewsTrainer.load_from_checkpoint(ckpt_full_path)"
   ]
  },
  {
   "cell_type": "code",
   "execution_count": 61,
   "metadata": {},
   "outputs": [
    {
     "name": "stderr",
     "output_type": "stream",
     "text": [
      "LOCAL_RANK: 0 - CUDA_VISIBLE_DEVICES: [0]\n"
     ]
    },
    {
     "name": "stdout",
     "output_type": "stream",
     "text": [
      "Testing DataLoader 0: 100%|██████████| 9/9 [00:00<00:00, 22.78it/s]\n"
     ]
    },
    {
     "data": {
      "text/html": [
       "<pre style=\"white-space:pre;overflow-x:auto;line-height:normal;font-family:Menlo,'DejaVu Sans Mono',consolas,'Courier New',monospace\">┏━━━━━━━━━━━━━━━━━━━━━━━━━━━┳━━━━━━━━━━━━━━━━━━━━━━━━━━━┓\n",
       "┃<span style=\"font-weight: bold\">        Test metric        </span>┃<span style=\"font-weight: bold\">       DataLoader 0        </span>┃\n",
       "┡━━━━━━━━━━━━━━━━━━━━━━━━━━━╇━━━━━━━━━━━━━━━━━━━━━━━━━━━┩\n",
       "│<span style=\"color: #008080; text-decoration-color: #008080\">         test_acc          </span>│<span style=\"color: #800080; text-decoration-color: #800080\">     0.976190447807312     </span>│\n",
       "│<span style=\"color: #008080; text-decoration-color: #008080\">         test_loss         </span>│<span style=\"color: #800080; text-decoration-color: #800080\">    0.09746517986059189    </span>│\n",
       "└───────────────────────────┴───────────────────────────┘\n",
       "</pre>\n"
      ],
      "text/plain": [
       "┏━━━━━━━━━━━━━━━━━━━━━━━━━━━┳━━━━━━━━━━━━━━━━━━━━━━━━━━━┓\n",
       "┃\u001b[1m \u001b[0m\u001b[1m       Test metric       \u001b[0m\u001b[1m \u001b[0m┃\u001b[1m \u001b[0m\u001b[1m      DataLoader 0       \u001b[0m\u001b[1m \u001b[0m┃\n",
       "┡━━━━━━━━━━━━━━━━━━━━━━━━━━━╇━━━━━━━━━━━━━━━━━━━━━━━━━━━┩\n",
       "│\u001b[36m \u001b[0m\u001b[36m        test_acc         \u001b[0m\u001b[36m \u001b[0m│\u001b[35m \u001b[0m\u001b[35m    0.976190447807312    \u001b[0m\u001b[35m \u001b[0m│\n",
       "│\u001b[36m \u001b[0m\u001b[36m        test_loss        \u001b[0m\u001b[36m \u001b[0m│\u001b[35m \u001b[0m\u001b[35m   0.09746517986059189   \u001b[0m\u001b[35m \u001b[0m│\n",
       "└───────────────────────────┴───────────────────────────┘\n"
      ]
     },
     "metadata": {},
     "output_type": "display_data"
    },
    {
     "data": {
      "text/plain": [
       "[{'test_loss': 0.09746517986059189, 'test_acc': 0.976190447807312}]"
      ]
     },
     "execution_count": 61,
     "metadata": {},
     "output_type": "execute_result"
    }
   ],
   "source": [
    "trainer.test(model, test_loader)"
   ]
  },
  {
   "cell_type": "code",
   "execution_count": 65,
   "metadata": {},
   "outputs": [
    {
     "name": "stdout",
     "output_type": "stream",
     "text": [
      "Train time: 418.734s\n",
      "Validate time: 0.265s\n",
      "Test time: 10.187s\n"
     ]
    }
   ],
   "source": [
    "print(f\"Train time: {timer.time_elapsed('train'):.3f}s\")\n",
    "print(f\"Validate time: {timer.time_elapsed('validate'):.3f}s\")\n",
    "print(f\"Test time: {timer.time_elapsed('test'):.3f}s\")"
   ]
  }
 ],
 "metadata": {
  "kernelspec": {
   "display_name": "Python 3",
   "language": "python",
   "name": "python3"
  },
  "language_info": {
   "codemirror_mode": {
    "name": "ipython",
    "version": 3
   },
   "file_extension": ".py",
   "mimetype": "text/x-python",
   "name": "python",
   "nbconvert_exporter": "python",
   "pygments_lexer": "ipython3",
   "version": "3.10.9"
  }
 },
 "nbformat": 4,
 "nbformat_minor": 2
}
