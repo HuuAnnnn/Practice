{
 "cells": [
  {
   "cell_type": "code",
   "execution_count": 110,
   "metadata": {},
   "outputs": [],
   "source": [
    "import torch\n",
    "import numpy as np\n",
    "import pandas as pd\n",
    "import pickle"
   ]
  },
  {
   "cell_type": "code",
   "execution_count": 111,
   "metadata": {},
   "outputs": [],
   "source": [
    "def load_graph(path: str) -> np.array:\n",
    "    *_, A = pd.read_pickle(path)\n",
    "    return A\n",
    "\n",
    "\n",
    "A = load_graph(\"./Practices/datasets/adj_METR-LA.pkl\")"
   ]
  },
  {
   "cell_type": "code",
   "execution_count": 112,
   "metadata": {},
   "outputs": [],
   "source": [
    "A = np.array(\n",
    "    [\n",
    "        [0, 1, 1, 0, 1],\n",
    "        [1, 0, 1, 1, 1],\n",
    "        [1, 1, 0, 0, 1],\n",
    "        [0, 1, 0, 0, 1],\n",
    "        [1, 1, 1, 1, 0],\n",
    "    ]\n",
    ")\n",
    "\n",
    "# A = A - np.eye(A.shape[0])"
   ]
  },
  {
   "cell_type": "code",
   "execution_count": 113,
   "metadata": {},
   "outputs": [],
   "source": [
    "num_nodes = A.shape[0]\n",
    "hyper_edges = []\n",
    "K = 1"
   ]
  },
  {
   "cell_type": "code",
   "execution_count": 114,
   "metadata": {},
   "outputs": [],
   "source": [
    "for centroid_node in range(num_nodes):\n",
    "    queue = [centroid_node]\n",
    "    k = 0\n",
    "    hyper_edge = []\n",
    "\n",
    "    while queue:\n",
    "        node = queue.pop(0)\n",
    "        adj_list = A[node]\n",
    "\n",
    "        for adj, weight in enumerate(adj_list):\n",
    "            if adj != node and weight != 0:\n",
    "                if adj not in queue:\n",
    "                    queue.append(adj)\n",
    "                if adj not in hyper_edge:\n",
    "                    hyper_edge.append(adj)\n",
    "        k += 1        \n",
    "        if k == K:\n",
    "          break\n",
    "\n",
    "    hyper_edges.append(hyper_edge)"
   ]
  },
  {
   "cell_type": "code",
   "execution_count": 115,
   "metadata": {},
   "outputs": [],
   "source": [
    "num_edges = len(hyper_edges)"
   ]
  },
  {
   "cell_type": "code",
   "execution_count": 116,
   "metadata": {},
   "outputs": [
    {
     "data": {
      "text/plain": [
       "[[1, 2, 4], [0, 2, 3, 4], [0, 1, 4], [1, 4], [0, 1, 2, 3]]"
      ]
     },
     "execution_count": 116,
     "metadata": {},
     "output_type": "execute_result"
    }
   ],
   "source": [
    "hyper_edges"
   ]
  },
  {
   "cell_type": "code",
   "execution_count": 117,
   "metadata": {},
   "outputs": [],
   "source": [
    "H = np.zeros((num_nodes, num_edges))"
   ]
  },
  {
   "cell_type": "code",
   "execution_count": 118,
   "metadata": {},
   "outputs": [],
   "source": [
    "for i, hyper_edge in enumerate(hyper_edges):\n",
    "    for vertex in hyper_edge:\n",
    "        H[i, vertex] = 1"
   ]
  },
  {
   "cell_type": "code",
   "execution_count": 119,
   "metadata": {},
   "outputs": [
    {
     "data": {
      "text/plain": [
       "array([[0., 1., 1., 0., 1.],\n",
       "       [1., 0., 1., 1., 1.],\n",
       "       [1., 1., 0., 0., 1.],\n",
       "       [0., 1., 0., 0., 1.],\n",
       "       [1., 1., 1., 1., 0.]])"
      ]
     },
     "execution_count": 119,
     "metadata": {},
     "output_type": "execute_result"
    }
   ],
   "source": [
    "H"
   ]
  }
 ],
 "metadata": {
  "kernelspec": {
   "display_name": "Python 3",
   "language": "python",
   "name": "python3"
  },
  "language_info": {
   "codemirror_mode": {
    "name": "ipython",
    "version": 3
   },
   "file_extension": ".py",
   "mimetype": "text/x-python",
   "name": "python",
   "nbconvert_exporter": "python",
   "pygments_lexer": "ipython3",
   "version": "3.10.9"
  }
 },
 "nbformat": 4,
 "nbformat_minor": 2
}
